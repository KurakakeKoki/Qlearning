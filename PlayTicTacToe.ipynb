{
 "cells": [
  {
   "cell_type": "code",
   "execution_count": 2,
   "id": "362c2540",
   "metadata": {},
   "outputs": [
    {
     "name": "stdout",
     "output_type": "stream",
     "text": [
      "Q_100.pkl  Q_10000000.pkl\r\n"
     ]
    }
   ],
   "source": [
    "!ls train_result"
   ]
  },
  {
   "cell_type": "code",
   "execution_count": 3,
   "id": "f9864c7e",
   "metadata": {},
   "outputs": [],
   "source": [
    "import pickle"
   ]
  },
  {
   "cell_type": "code",
   "execution_count": 6,
   "id": "61b60ae4",
   "metadata": {},
   "outputs": [],
   "source": [
    "with open(\"./train_result/Q_10000000.pkl\", \"rb\") as f:\n",
    "    Q = pickle.load(f)"
   ]
  },
  {
   "cell_type": "code",
   "execution_count": 7,
   "id": "93492e13",
   "metadata": {},
   "outputs": [
    {
     "data": {
      "text/plain": [
       "array([0.95674178, 0.82763252, 0.94653621, 0.94046898, 0.97542692,\n",
       "       0.96763226, 0.93902687, 0.80551031, 0.96900616])"
      ]
     },
     "execution_count": 7,
     "metadata": {},
     "output_type": "execute_result"
    }
   ],
   "source": [
    "Q[0]"
   ]
  },
  {
   "cell_type": "code",
   "execution_count": 19,
   "id": "e0e51c5c",
   "metadata": {},
   "outputs": [
    {
     "data": {
      "text/plain": [
       "array([0., 0., 0., 0., 0., 0., 0., 0., 0.])"
      ]
     },
     "execution_count": 19,
     "metadata": {},
     "output_type": "execute_result"
    }
   ],
   "source": [
    "Q[81 + 2 + 27*27 + 9*2 + 3 + 27 * 27 * 3 * 2 + 27 + 27 * 9 * 2 ]"
   ]
  },
  {
   "cell_type": "code",
   "execution_count": null,
   "id": "e6372629",
   "metadata": {},
   "outputs": [],
   "source": [
    "xox\n",
    "oox\n",
    "ox_"
   ]
  }
 ],
 "metadata": {
  "kernelspec": {
   "display_name": "Python 3",
   "language": "python",
   "name": "python3"
  },
  "language_info": {
   "codemirror_mode": {
    "name": "ipython",
    "version": 3
   },
   "file_extension": ".py",
   "mimetype": "text/x-python",
   "name": "python",
   "nbconvert_exporter": "python",
   "pygments_lexer": "ipython3",
   "version": "3.6.8"
  }
 },
 "nbformat": 4,
 "nbformat_minor": 5
}
